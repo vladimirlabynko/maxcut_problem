{
  "nbformat": 4,
  "nbformat_minor": 0,
  "metadata": {
    "colab": {
      "provenance": []
    },
    "kernelspec": {
      "name": "python3",
      "display_name": "Python 3"
    },
    "language_info": {
      "name": "python"
    }
  },
  "cells": [
    {
      "cell_type": "code",
      "execution_count": 1,
      "metadata": {
        "id": "mgf5JKJ___mP",
        "colab": {
          "base_uri": "https://localhost:8080/"
        },
        "outputId": "31973624-3168-4b3a-fb1a-27a1f899a9bb"
      },
      "outputs": [
        {
          "output_type": "stream",
          "name": "stdout",
          "text": [
            "Looking in indexes: https://pypi.org/simple, https://us-python.pkg.dev/colab-wheels/public/simple/\n",
            "Collecting torch==1.7.1\n",
            "  Downloading torch-1.7.1-cp38-cp38-manylinux1_x86_64.whl (776.8 MB)\n",
            "\u001b[2K     \u001b[90m━━━━━━━━━━━━━━━━━━━━━━━━━━━━━━━━━━━━━━━\u001b[0m \u001b[32m776.8/776.8 MB\u001b[0m \u001b[31m1.1 MB/s\u001b[0m eta \u001b[36m0:00:00\u001b[0m\n",
            "\u001b[?25hCollecting torchvision==0.8.2\n",
            "  Downloading torchvision-0.8.2-cp38-cp38-manylinux1_x86_64.whl (12.8 MB)\n",
            "\u001b[2K     \u001b[90m━━━━━━━━━━━━━━━━━━━━━━━━━━━━━━━━━━━━━━━━\u001b[0m \u001b[32m12.8/12.8 MB\u001b[0m \u001b[31m41.6 MB/s\u001b[0m eta \u001b[36m0:00:00\u001b[0m\n",
            "\u001b[?25hCollecting torchaudio==0.7.2\n",
            "  Downloading torchaudio-0.7.2-cp38-cp38-manylinux1_x86_64.whl (7.6 MB)\n",
            "\u001b[2K     \u001b[90m━━━━━━━━━━━━━━━━━━━━━━━━━━━━━━━━━━━━━━━━\u001b[0m \u001b[32m7.6/7.6 MB\u001b[0m \u001b[31m41.5 MB/s\u001b[0m eta \u001b[36m0:00:00\u001b[0m\n",
            "\u001b[?25hCollecting dgl==0.6.0\n",
            "  Downloading dgl-0.6.0-cp38-cp38-manylinux1_x86_64.whl (4.2 MB)\n",
            "\u001b[2K     \u001b[90m━━━━━━━━━━━━━━━━━━━━━━━━━━━━━━━━━━━━━━━━\u001b[0m \u001b[32m4.2/4.2 MB\u001b[0m \u001b[31m4.6 MB/s\u001b[0m eta \u001b[36m0:00:00\u001b[0m\n",
            "\u001b[?25hCollecting numpy==1.19.5\n",
            "  Downloading numpy-1.19.5-cp38-cp38-manylinux2010_x86_64.whl (14.9 MB)\n",
            "\u001b[2K     \u001b[90m━━━━━━━━━━━━━━━━━━━━━━━━━━━━━━━━━━━━━━━━\u001b[0m \u001b[32m14.9/14.9 MB\u001b[0m \u001b[31m27.8 MB/s\u001b[0m eta \u001b[36m0:00:00\u001b[0m\n",
            "\u001b[?25hCollecting networkx==2.5\n",
            "  Downloading networkx-2.5-py3-none-any.whl (1.6 MB)\n",
            "\u001b[2K     \u001b[90m━━━━━━━━━━━━━━━━━━━━━━━━━━━━━━━━━━━━━━━━\u001b[0m \u001b[32m1.6/1.6 MB\u001b[0m \u001b[31m23.5 MB/s\u001b[0m eta \u001b[36m0:00:00\u001b[0m\n",
            "\u001b[?25hRequirement already satisfied: requests==2.25.1 in /usr/local/lib/python3.8/dist-packages (2.25.1)\n",
            "Collecting matplotlib==3.1.3\n",
            "  Downloading matplotlib-3.1.3-cp38-cp38-manylinux1_x86_64.whl (13.1 MB)\n",
            "\u001b[2K     \u001b[90m━━━━━━━━━━━━━━━━━━━━━━━━━━━━━━━━━━━━━━━━\u001b[0m \u001b[32m13.1/13.1 MB\u001b[0m \u001b[31m19.1 MB/s\u001b[0m eta \u001b[36m0:00:00\u001b[0m\n",
            "\u001b[?25hRequirement already satisfied: typing-extensions in /usr/local/lib/python3.8/dist-packages (from torch==1.7.1) (4.5.0)\n",
            "Requirement already satisfied: pillow>=4.1.1 in /usr/local/lib/python3.8/dist-packages (from torchvision==0.8.2) (7.1.2)\n",
            "Requirement already satisfied: scipy>=1.1.0 in /usr/local/lib/python3.8/dist-packages (from dgl==0.6.0) (1.7.3)\n",
            "Requirement already satisfied: decorator>=4.3.0 in /usr/local/lib/python3.8/dist-packages (from networkx==2.5) (4.4.2)\n",
            "Requirement already satisfied: idna<3,>=2.5 in /usr/local/lib/python3.8/dist-packages (from requests==2.25.1) (2.10)\n",
            "Requirement already satisfied: urllib3<1.27,>=1.21.1 in /usr/local/lib/python3.8/dist-packages (from requests==2.25.1) (1.24.3)\n",
            "Requirement already satisfied: certifi>=2017.4.17 in /usr/local/lib/python3.8/dist-packages (from requests==2.25.1) (2022.12.7)\n",
            "Requirement already satisfied: chardet<5,>=3.0.2 in /usr/local/lib/python3.8/dist-packages (from requests==2.25.1) (4.0.0)\n",
            "Requirement already satisfied: pyparsing!=2.0.4,!=2.1.2,!=2.1.6,>=2.0.1 in /usr/local/lib/python3.8/dist-packages (from matplotlib==3.1.3) (3.0.9)\n",
            "Requirement already satisfied: kiwisolver>=1.0.1 in /usr/local/lib/python3.8/dist-packages (from matplotlib==3.1.3) (1.4.4)\n",
            "Requirement already satisfied: python-dateutil>=2.1 in /usr/local/lib/python3.8/dist-packages (from matplotlib==3.1.3) (2.8.2)\n",
            "Requirement already satisfied: cycler>=0.10 in /usr/local/lib/python3.8/dist-packages (from matplotlib==3.1.3) (0.11.0)\n",
            "Requirement already satisfied: six>=1.5 in /usr/local/lib/python3.8/dist-packages (from python-dateutil>=2.1->matplotlib==3.1.3) (1.15.0)\n",
            "Installing collected packages: numpy, networkx, torch, matplotlib, torchvision, torchaudio, dgl\n",
            "  Attempting uninstall: numpy\n",
            "    Found existing installation: numpy 1.21.6\n",
            "    Uninstalling numpy-1.21.6:\n",
            "      Successfully uninstalled numpy-1.21.6\n",
            "  Attempting uninstall: networkx\n",
            "    Found existing installation: networkx 3.0\n",
            "    Uninstalling networkx-3.0:\n",
            "      Successfully uninstalled networkx-3.0\n",
            "  Attempting uninstall: torch\n",
            "    Found existing installation: torch 1.13.1+cu116\n",
            "    Uninstalling torch-1.13.1+cu116:\n",
            "      Successfully uninstalled torch-1.13.1+cu116\n",
            "  Attempting uninstall: matplotlib\n",
            "    Found existing installation: matplotlib 3.2.2\n",
            "    Uninstalling matplotlib-3.2.2:\n",
            "      Successfully uninstalled matplotlib-3.2.2\n",
            "  Attempting uninstall: torchvision\n",
            "    Found existing installation: torchvision 0.14.1+cu116\n",
            "    Uninstalling torchvision-0.14.1+cu116:\n",
            "      Successfully uninstalled torchvision-0.14.1+cu116\n",
            "  Attempting uninstall: torchaudio\n",
            "    Found existing installation: torchaudio 0.13.1+cu116\n",
            "    Uninstalling torchaudio-0.13.1+cu116:\n",
            "      Successfully uninstalled torchaudio-0.13.1+cu116\n",
            "\u001b[31mERROR: pip's dependency resolver does not currently take into account all the packages that are installed. This behaviour is the source of the following dependency conflicts.\n",
            "xarray 2022.12.0 requires numpy>=1.20, but you have numpy 1.19.5 which is incompatible.\n",
            "xarray-einstats 0.5.1 requires numpy>=1.20, but you have numpy 1.19.5 which is incompatible.\n",
            "torchtext 0.14.1 requires torch==1.13.1, but you have torch 1.7.1 which is incompatible.\n",
            "tensorflow 2.11.0 requires numpy>=1.20, but you have numpy 1.19.5 which is incompatible.\n",
            "jaxlib 0.3.25+cuda11.cudnn805 requires numpy>=1.20, but you have numpy 1.19.5 which is incompatible.\n",
            "jax 0.3.25 requires numpy>=1.20, but you have numpy 1.19.5 which is incompatible.\n",
            "cmdstanpy 1.1.0 requires numpy>=1.21, but you have numpy 1.19.5 which is incompatible.\u001b[0m\u001b[31m\n",
            "\u001b[0mSuccessfully installed dgl-0.6.0 matplotlib-3.1.3 networkx-2.5 numpy-1.19.5 torch-1.7.1 torchaudio-0.7.2 torchvision-0.8.2\n"
          ]
        }
      ],
      "source": [
        "! pip install torch==1.7.1 torchvision==0.8.2 torchaudio==0.7.2 dgl==0.6.0 numpy==1.19.5 networkx==2.5 requests==2.25.1 matplotlib==3.1.3 "
      ]
    },
    {
      "cell_type": "code",
      "source": [],
      "metadata": {
        "id": "ROxwkhoPAm5C"
      },
      "execution_count": 1,
      "outputs": []
    },
    {
      "cell_type": "code",
      "source": [
        "import dgl\n",
        "import torch\n",
        "import random\n",
        "import os\n",
        "import numpy as np\n",
        "import networkx as nx\n",
        "import torch.nn as nn\n",
        "import torch.nn.functional as F\n",
        "import torch\n",
        "import torch.optim as optim\n",
        "import matplotlib.pyplot as plt\n",
        "from collections import OrderedDict, defaultdict\n",
        "from dgl.nn.pytorch import GraphConv\n",
        "from itertools import chain, islice, combinations\n",
        "\n",
        "os.environ['KMP_DUPLICATE_LIB_OK'] = 'True'\n"
      ],
      "metadata": {
        "colab": {
          "base_uri": "https://localhost:8080/"
        },
        "id": "AH2R1_12AA4l",
        "outputId": "50a17f34-d812-4f1d-b2a3-fc1c21b5783d"
      },
      "execution_count": 2,
      "outputs": [
        {
          "output_type": "stream",
          "name": "stderr",
          "text": [
            "DGL backend not selected or invalid.  Assuming PyTorch for now.\n"
          ]
        },
        {
          "output_type": "stream",
          "name": "stdout",
          "text": [
            "Setting the default backend to \"pytorch\". You can change it in the ~/.dgl/config.json file or export the DGLBACKEND environment variable.  Valid options are: pytorch, mxnet, tensorflow (all lowercase)\n"
          ]
        },
        {
          "output_type": "stream",
          "name": "stderr",
          "text": [
            "Using backend: pytorch\n"
          ]
        }
      ]
    },
    {
      "cell_type": "code",
      "source": [
        "# Setting torch config\n",
        "TORCH_DEVICE = torch.device('cuda' if torch.cuda.is_available() else 'cpu')\n",
        "TORCH_DTYPE = torch.float32"
      ],
      "metadata": {
        "id": "1wEKSjiSApEG"
      },
      "execution_count": 3,
      "outputs": []
    },
    {
      "cell_type": "code",
      "source": [
        "from time import time\n",
        "class GCN_dev(nn.Module):\n",
        "    def __init__(self, in_feats, hidden_size, number_classes, dropout, device):\n",
        "        \"\"\"\n",
        "        Initialize a new instance of the core GCN model of provided size.\n",
        "        Dropout is added in forward step.\n",
        "        Inputs:\n",
        "            in_feats: Dimension of the input (embedding) layer\n",
        "            hidden_size: Hidden layer size\n",
        "            dropout: Fraction of dropout to add between intermediate layer. Value is cached for later use.\n",
        "            device: Specifies device (CPU vs GPU) to load variables onto\n",
        "        \"\"\"\n",
        "        super(GCN_dev, self).__init__()\n",
        "\n",
        "        self.dropout_frac = dropout\n",
        "        self.conv1 = GraphConv(in_feats, hidden_size).to(device)\n",
        "        self.conv2 = GraphConv(hidden_size, number_classes).to(device)\n",
        "\n",
        "    def forward(self, g, inputs):\n",
        "        \"\"\"\n",
        "        Run forward propagation step of instantiated model.\n",
        "        Input:\n",
        "            self: GCN_dev instance\n",
        "            g: DGL graph object, i.e. problem definition\n",
        "            inputs: Input (embedding) layer weights, to be propagated through network\n",
        "        Output:\n",
        "            h: Output layer weights\n",
        "        \"\"\"\n",
        "\n",
        "        # input step\n",
        "        h = self.conv1(g, inputs)\n",
        "        h = torch.relu(h)\n",
        "        h = F.dropout(h, p=self.dropout_frac)\n",
        "\n",
        "        # output step\n",
        "        h = self.conv2(g, h)\n",
        "        h = torch.sigmoid(h)\n",
        "\n",
        "        return h\n",
        "\n",
        "# helper function to convert Q dictionary to torch tensor\n",
        "def qubo_dict_to_torch(nx_G, Q, torch_dtype=None, torch_device=None):\n",
        "    \"\"\"\n",
        "    Output Q matrix as torch tensor for given Q in dictionary format.\n",
        "    Input:\n",
        "        Q: QUBO matrix as defaultdict\n",
        "        nx_G: graph as networkx object (needed for node lables can vary 0,1,... vs 1,2,... vs a,b,...)\n",
        "    Output:\n",
        "        Q: QUBO as torch tensor\n",
        "    \"\"\"\n",
        "\n",
        "    # get number of nodes\n",
        "    n_nodes = len(nx_G.nodes)\n",
        "\n",
        "    # get QUBO Q as torch tensor\n",
        "    Q_mat = torch.zeros(n_nodes, n_nodes)\n",
        "    for (x_coord, y_coord), val in Q.items():\n",
        "        Q_mat[x_coord][y_coord] = val\n",
        "\n",
        "    if torch_dtype is not None:\n",
        "        Q_mat = Q_mat.type(torch_dtype)\n",
        "\n",
        "    if torch_device is not None:\n",
        "        Q_mat = Q_mat.to(torch_device)\n",
        "\n",
        "    return Q_mat\n",
        "\n",
        "\n",
        "# Chunk long list\n",
        "def gen_combinations(combs, chunk_size):\n",
        "    yield from iter(lambda: list(islice(combs, chunk_size)), [])\n",
        "\n",
        "\n",
        "# helper function for custom loss according to Q matrix\n",
        "def loss_func(probs, Q_mat):\n",
        "    \"\"\"\n",
        "    Function to compute cost value for given probability of spin [prob(+1)] and predefined Q matrix.\n",
        "    Input:\n",
        "        probs: Probability of each node belonging to each class, as a vector\n",
        "        Q_mat: QUBO as torch tensor\n",
        "    \"\"\"\n",
        "\n",
        "    probs_ = torch.unsqueeze(probs, 1)\n",
        "\n",
        "    # minimize cost = x.T * Q * x\n",
        "    cost = (probs_.T @ Q_mat @ probs_).squeeze()\n",
        "\n",
        "    return cost\n",
        "\n",
        "\n",
        "# Construct graph to learn on\n",
        "def get_gnn(n_nodes, gnn_hypers, opt_params, torch_device, torch_dtype):\n",
        "    \"\"\"\n",
        "    Generate GNN instance with specified structure. Creates GNN, retrieves embedding layer,\n",
        "    and instantiates ADAM optimizer given those.\n",
        "    Input:\n",
        "        n_nodes: Problem size (number of nodes in graph)\n",
        "        gnn_hypers: Hyperparameters relevant to GNN structure\n",
        "        opt_params: Hyperparameters relevant to ADAM optimizer\n",
        "        torch_device: Whether to load pytorch variables onto CPU or GPU\n",
        "        torch_dtype: Datatype to use for pytorch variables\n",
        "    Output:\n",
        "        net: GNN instance\n",
        "        embed: Embedding layer to use as input to GNN\n",
        "        optimizer: ADAM optimizer instance\n",
        "    \"\"\"\n",
        "    dim_embedding = gnn_hypers['dim_embedding']\n",
        "    hidden_dim = gnn_hypers['hidden_dim']\n",
        "    dropout = gnn_hypers['dropout']\n",
        "    number_classes = gnn_hypers['number_classes']\n",
        "\n",
        "    # instantiate the GNN\n",
        "    net = GCN_dev(dim_embedding, hidden_dim, number_classes, dropout, torch_device)\n",
        "    net = net.type(torch_dtype).to(torch_device)\n",
        "    embed = nn.Embedding(n_nodes, dim_embedding)\n",
        "    embed = embed.type(torch_dtype).to(torch_device)\n",
        "\n",
        "    # set up Adam optimizer\n",
        "    params = chain(net.parameters(), embed.parameters())\n",
        "    optimizer = torch.optim.Adam(params, **opt_params)\n",
        "    return net, embed, optimizer\n",
        "\n",
        "\n",
        "# Parent function to run GNN training given input config\n",
        "def run_gnn_training(q_torch, dgl_graph, net, embed, optimizer, number_epochs, tol, patience, prob_threshold):\n",
        "    \"\"\"\n",
        "    Wrapper function to run and monitor GNN training. Includes early stopping.\n",
        "    \"\"\"\n",
        "    # Assign variable for user reference\n",
        "    inputs = embed.weight\n",
        "\n",
        "    prev_loss = 1.  # initial loss value (arbitrary)\n",
        "    count = 0       # track number times early stopping is triggered\n",
        "\n",
        "    # initialize optimal solution\n",
        "    best_bitstring = torch.zeros((dgl_graph.number_of_nodes(),)).type(q_torch.dtype).to(q_torch.device)\n",
        "    best_loss = loss_func(best_bitstring.float(), q_torch)\n",
        "\n",
        "    t_gnn_start = time()\n",
        "\n",
        "    # Training logic\n",
        "    for epoch in range(number_epochs):\n",
        "\n",
        "        # get logits/activations\n",
        "        probs = net(dgl_graph, inputs)[:, 0]  # collapse extra dimension output from model\n",
        "\n",
        "        # build cost value with QUBO cost function\n",
        "        loss = loss_func(probs, q_torch)\n",
        "        loss_ = loss.detach().item()\n",
        "\n",
        "        # Apply projection\n",
        "        bitstring = (probs.detach() >= prob_threshold) * 1\n",
        "        if loss < best_loss:\n",
        "            best_loss = loss\n",
        "            best_bitstring = bitstring\n",
        "\n",
        "        if epoch % 1000 == 0:\n",
        "          print(f'Epoch: {epoch}, Loss: {loss_}')\n",
        "\n",
        "        # early stopping check\n",
        "        # If loss increases or change in loss is too small, trigger\n",
        "        if (abs(loss_ - prev_loss) <= tol) | ((loss_ - prev_loss) > 0):\n",
        "            count += 1\n",
        "        else:\n",
        "            count = 0\n",
        "\n",
        "        if count >= patience:\n",
        "            print(f'Stopping early on epoch {epoch} (patience: {patience})')\n",
        "            break\n",
        "\n",
        "        # update loss tracking\n",
        "        prev_loss = loss_\n",
        "\n",
        "        # run optimization with backpropagation\n",
        "        optimizer.zero_grad()  # clear gradient for step\n",
        "        loss.backward()        # calculate gradient through compute graph\n",
        "        optimizer.step()       # take step, update weights\n",
        "\n",
        "    t_gnn = time() - t_gnn_start\n",
        "\n",
        "    final_bitstring = (probs.detach() >= prob_threshold) * 1\n",
        "\n",
        "    return t_gnn, epoch, final_bitstring, best_bitstring"
      ],
      "metadata": {
        "id": "YgH-VWPBAVVQ"
      },
      "execution_count": 4,
      "outputs": []
    },
    {
      "cell_type": "code",
      "source": [
        "def generate_random_graph(n, k):\n",
        "    # Create empty graph\n",
        "    G = nx.Graph()\n",
        "\n",
        "    # Add n nodes to the graph\n",
        "    for i in range(n):\n",
        "        G.add_node(i)\n",
        "\n",
        "    # Add k edges for each node\n",
        "    for i in range(n):\n",
        "        # Make a list of all nodes that aren't i\n",
        "        other_nodes = list(range(0, i)) + list(range(i+1, n))\n",
        "        # Randomly select k nodes from the other nodes\n",
        "        edges = random.sample(other_nodes, k)\n",
        "        # Add edges to the graph with random weights\n",
        "        for j in edges:\n",
        "            G.add_edge(i, j, weight=np.random.random())\n",
        "\n",
        "    return G"
      ],
      "metadata": {
        "id": "A4fOgEEvAVYB"
      },
      "execution_count": 5,
      "outputs": []
    },
    {
      "cell_type": "code",
      "source": [
        "def postprocess_gnn_maxcut(best_bitstring, nx_graph):\n",
        "    \"\"\"\n",
        "    Helper function to postprocess MaxCut results\n",
        "\n",
        "    Input:\n",
        "        best_bitstring: bitstring as torch tensor\n",
        "        nx_graph: NetworkX graph object\n",
        "    Output:\n",
        "        maxcut: maximum cut value (float)\n",
        "        cut_edges: cut edges (list of tuples)\n",
        "    \"\"\"\n",
        "    laplacian = - np.array(nx.laplacian_matrix(nx_graph).todense())\n",
        "    # Convert bitstring to list of 0s and 1s\n",
        "    #bitstring_list = best_bitstring.cpu().numpy().tolist()\n",
        "    partition_gnn_best = best_bitstring.detach().cpu().numpy().astype('float32').reshape((best_bitstring.numel()))\n",
        "    score_best = -1.0 * partition_gnn_best @ laplacian @ partition_gnn_best.T\n",
        "\n",
        "    return score_best\n"
      ],
      "metadata": {
        "id": "Gg01VqXXgIO7"
      },
      "execution_count": 6,
      "outputs": []
    },
    {
      "cell_type": "code",
      "source": [
        "dim_embedding = 200 # set gnn input embeding\n",
        "dropout = 0.0\n",
        "hidden_dim = int(dim_embedding/2)  # et gnn hidden embeding\n",
        "# NN learning hypers #\n",
        "number_epochs = int(1000)\n",
        "learning_rate = 1e-4\n",
        "PROB_THRESHOLD = 0.5\n",
        "\n",
        "# Early stopping to allow NN to train to near-completion\n",
        "tol = 1e-4          # loss must change by more than tol, or trigger\n",
        "patience = 100    # number early stopping triggers before breaking loop"
      ],
      "metadata": {
        "id": "8w6-nyWOBavJ"
      },
      "execution_count": 7,
      "outputs": []
    },
    {
      "cell_type": "code",
      "source": [
        "opt_params = {'lr': learning_rate}\n",
        "gnn_hypers = {\n",
        "    'dim_embedding': dim_embedding,\n",
        "    'hidden_dim': hidden_dim,\n",
        "    'dropout': dropout,\n",
        "    'number_classes': 1,\n",
        "    'prob_threshold': PROB_THRESHOLD,\n",
        "    'number_epochs': number_epochs,\n",
        "    'tolerance': tol,\n",
        "    'patience': patience\n",
        "}"
      ],
      "metadata": {
        "id": "XaVkPNblBpfm"
      },
      "execution_count": 8,
      "outputs": []
    },
    {
      "cell_type": "code",
      "source": [],
      "metadata": {
        "id": "7EAcz7-qIoV8"
      },
      "execution_count": 8,
      "outputs": []
    },
    {
      "cell_type": "code",
      "source": [
        "from typing import Tuple, Iterable, Union\n",
        "\n",
        "import cvxpy as cvx\n",
        "def goemans_williamson_maxcut(graph: nx.Graph) -> Tuple[np.ndarray, float, float]:\n",
        "\n",
        "    # Kudos: Originally implementation by Nick Rubin, with refactoring and\n",
        "    # cleanup by Jonathon Ward and Gavin E. Crooks\n",
        "    laplacian = np.array(0.25 * nx.laplacian_matrix(graph).todense())\n",
        "\n",
        "    # Setup and solve the GW semidefinite programming problem\n",
        "    psd_mat = cvx.Variable(laplacian.shape, PSD=True)\n",
        "    obj = cvx.Maximize(cvx.trace(laplacian @ psd_mat))\n",
        "    constraints = [cvx.diag(psd_mat) == 1]  # unit norm\n",
        "    prob = cvx.Problem(obj, constraints)\n",
        "    prob.solve(solver=cvx.CVXOPT)\n",
        "\n",
        "    evals, evects = np.linalg.eigh(psd_mat.value)\n",
        "    sdp_vectors = evects.T[evals > float(1.0E-6)].T\n",
        "\n",
        "    # Bound from the SDP relaxation\n",
        "    bound = np.trace(laplacian @ psd_mat.value)\n",
        "\n",
        "    random_vector = np.random.randn(sdp_vectors.shape[1])\n",
        "    random_vector /= np.linalg.norm(random_vector)\n",
        "    colors = np.sign([vec @ random_vector for vec in sdp_vectors])\n",
        "    score = colors @ laplacian @ colors.T\n",
        "\n",
        "    return score"
      ],
      "metadata": {
        "id": "2jPoKzsAIoYn"
      },
      "execution_count": 9,
      "outputs": []
    },
    {
      "cell_type": "code",
      "source": [
        "def maxcut(g, n, k):\n",
        "    maxcut = goemans_williamson_maxcut(g)\n",
        "    return maxcut"
      ],
      "metadata": {
        "id": "rDGdsa26I2gO"
      },
      "execution_count": 10,
      "outputs": []
    },
    {
      "cell_type": "code",
      "source": [
        "import matplotlib.pyplot as plt\n",
        "real_solutions = []\n",
        "found_solutions = []\n",
        "n=40\n",
        "K = [i for i in range(1,n) if i*n%2==0] # set range of graph degree\n",
        "\n",
        "for k in K:\n",
        "    nx_graph = generate_random_graph(n, k)\n",
        "    graph_dgl = dgl.from_networkx(nx_graph=nx_graph)\n",
        "    graph_dgl = graph_dgl.to(TORCH_DEVICE)\n",
        "    laplacian = - np.array(nx.laplacian_matrix(nx_graph).todense())\n",
        "    q_torch = torch.tensor(laplacian, dtype=TORCH_DTYPE, device=TORCH_DEVICE)\n",
        "    net, embed, optimizer = get_gnn(n, gnn_hypers, opt_params, TORCH_DEVICE, TORCH_DTYPE)\n",
        "    dt_gnn, epoch, final_bitstring, best_bitstring = run_gnn_training(\n",
        "        q_torch, graph_dgl, net, embed, optimizer, gnn_hypers['number_epochs'],\n",
        "        gnn_hypers['tolerance'], gnn_hypers['patience'], gnn_hypers['prob_threshold'])\n",
        "    cut_value_gnn = postprocess_gnn_maxcut(best_bitstring, nx_graph)\n",
        "\n",
        "    found_solutions.append(cut_value_gnn)\n",
        "    real_solution = maxcut(nx_graph, n, k)\n",
        "    real_solutions.append(real_solution)\n"
      ],
      "metadata": {
        "colab": {
          "base_uri": "https://localhost:8080/"
        },
        "id": "riin8GoOJGzH",
        "outputId": "4ea96c76-f2e9-4c94-f5ec-243fdd28b577"
      },
      "execution_count": 11,
      "outputs": [
        {
          "output_type": "stream",
          "name": "stdout",
          "text": [
            "Epoch: 0, Loss: -0.6485720276832581\n",
            "Epoch: 0, Loss: -0.4397483468055725\n",
            "Epoch: 0, Loss: -0.41742897033691406\n",
            "Epoch: 0, Loss: -0.0793580710887909\n",
            "Epoch: 0, Loss: -0.05229845643043518\n",
            "Epoch: 0, Loss: -0.11673089116811752\n",
            "Epoch: 0, Loss: -0.056161630898714066\n",
            "Epoch: 0, Loss: -0.07845895737409592\n",
            "Epoch: 0, Loss: -0.04046173021197319\n",
            "Epoch: 0, Loss: -0.043837979435920715\n",
            "Epoch: 0, Loss: -0.060273222625255585\n",
            "Epoch: 0, Loss: -0.039118699729442596\n",
            "Epoch: 0, Loss: -0.025571390986442566\n",
            "Epoch: 0, Loss: -0.01332783605903387\n",
            "Epoch: 0, Loss: -0.01172733772546053\n",
            "Epoch: 0, Loss: -0.00551591906696558\n",
            "Epoch: 0, Loss: -0.04465116187930107\n",
            "Epoch: 0, Loss: -0.036797553300857544\n",
            "Epoch: 0, Loss: -0.011846772395074368\n",
            "Epoch: 0, Loss: -0.004578003194183111\n",
            "Epoch: 0, Loss: -0.005897808354347944\n",
            "Epoch: 0, Loss: -0.0042790877632796764\n",
            "Epoch: 0, Loss: -0.004316993057727814\n",
            "Epoch: 0, Loss: -0.0037059630267322063\n",
            "Epoch: 0, Loss: -0.012537031434476376\n",
            "Epoch: 0, Loss: -0.0008668761583976448\n",
            "Epoch: 0, Loss: -0.0022083474323153496\n",
            "Epoch: 0, Loss: -0.0015320359962061048\n",
            "Epoch: 0, Loss: -0.001440418534912169\n",
            "Epoch: 0, Loss: -0.00040759690455161035\n",
            "Epoch: 0, Loss: -0.00038232342922128737\n",
            "Epoch: 0, Loss: -0.0009767136070877314\n",
            "Epoch: 0, Loss: -0.0003232360177207738\n",
            "Epoch: 0, Loss: -0.0002019724779529497\n",
            "Epoch: 0, Loss: -0.00010904902592301369\n",
            "Epoch: 0, Loss: -4.6159075282048434e-05\n",
            "Stopping early on epoch 100 (patience: 100)\n",
            "Epoch: 0, Loss: -2.7213549401494674e-05\n",
            "Stopping early on epoch 100 (patience: 100)\n",
            "Epoch: 0, Loss: -3.3545253245392814e-05\n",
            "Stopping early on epoch 100 (patience: 100)\n",
            "Epoch: 0, Loss: -2.3183767552836798e-05\n",
            "Stopping early on epoch 100 (patience: 100)\n"
          ]
        }
      ]
    },
    {
      "cell_type": "code",
      "source": [
        "plt.figure(figsize=(15, 5))\n",
        "plt.plot(K, real_solutions, label='Real Solutions')\n",
        "plt.plot(K, found_solutions, label='Found Solutions')\n",
        "plt.title(\"Performance of the GNN with respect to k\")\n",
        "plt.xlabel('k')\n",
        "plt.ylabel('Cut Value')\n",
        "plt.legend()\n",
        "plt.show()"
      ],
      "metadata": {
        "colab": {
          "base_uri": "https://localhost:8080/",
          "height": 350
        },
        "id": "tqL5t_eAgqPQ",
        "outputId": "c9c7b5b7-535c-4851-bf3a-39b891287812"
      },
      "execution_count": 16,
      "outputs": [
        {
          "output_type": "display_data",
          "data": {
            "text/plain": [
              "<Figure size 1080x360 with 1 Axes>"
            ],
            "image/png": "[encoded data removed]"
          },
          "metadata": {
            "needs_background": "light"
          }
        }
      ]
    },
    {
      "cell_type": "code",
      "source": [
        "optimality_gnn = [abs(real_solutions[i] - found_solutions[i]) / real_solutions[i] for i in range(len(K))]\n",
        "\n",
        "plt.figure(figsize=(15, 5))\n",
        "plt.plot(K, optimality_gnn)\n",
        "plt.title(\"Optimality of GNN with the increase of k\")\n",
        "plt.xlabel('k')\n",
        "plt.ylabel('Optimality (|E_real - E_found| / |E_real|)')\n",
        "plt.show()"
      ],
      "metadata": {
        "colab": {
          "base_uri": "https://localhost:8080/",
          "height": 350
        },
        "id": "UVYK7wDonA3E",
        "outputId": "5429fa5b-2ba7-4798-bdbc-fb98ad976001"
      },
      "execution_count": 18,
      "outputs": [
        {
          "output_type": "display_data",
          "data": {
            "text/plain": [
              "<Figure size 1080x360 with 1 Axes>"
            ],
            "image/png": "[encoded data removed]"
          },
          "metadata": {
            "needs_background": "light"
          }
        }
      ]
    },
    {
      "cell_type": "markdown",
      "source": [
        "There are several classic algorithms that can solve the max-cut problem. Here are a few examples:\n",
        "\n",
        "Kernighan-Lin Algorithm: This algorithm iteratively improves a given initial partition of the vertices in the graph. It has no performance guarantee, but it often performs well in practice.\n",
        "\n",
        "Simulated Annealing: This is a stochastic search algorithm that randomly perturbs the current solution and accepts it with a certain probability. It has no performance guarantee, but it often performs well in practice.\n",
        "\n",
        "Tabu Search: This is another stochastic search algorithm that maintains a list of forbidden moves (tabu list) to avoid getting stuck in local optima. It has no performance guarantee, but it often performs well in practice.\n",
        "\n",
        "Use a different GNN architecture: There are many different GNN architectures, each with their own strengths and weaknesses. You can try using a different GNN architecture, such as a Graph Attention Network (GAT) or a Graph Isomorphism Network (GIN), to see if it performs better on your specific problem."
      ],
      "metadata": {
        "id": "YxbIj-Fm64vd"
      }
    },
    {
      "cell_type": "markdown",
      "source": [
        "If the structure of the graph is known, you can use some techniques to improve the performance of the presented GNN:\n",
        "\n",
        "Increase the number of layers: Since you know the structure of the graph, you can design a deeper GNN architecture that is tailored to exploit the specific properties of the graph. A deeper architecture may be able to capture more complex relationships between nodes.\n",
        "\n",
        "Adjust the weight initialization: You can try different weight initialization techniques to ensure that the model is initialized with weights that will converge to a good solution. One way to do this is to use Xavier initialization or He initialization, which are common techniques for initializing neural network weights.\n",
        "\n",
        "Use a different activation function: The presented GNN uses the ReLU activation function in the hidden layers and the sigmoid activation function in the output layer. You can try using a different activation function, such as the hyperbolic tangent (tanh) or the rectified linear unit (ReLU), to see if it improves the performance of the model.\n",
        "\n",
        "Use different aggregation functions: The aggregation function used in the presented GNN is a simple mean aggregation. However, depending on the properties of the graph, different aggregation functions may perform better. For example, for a graph with a hierarchical structure, a hierarchical aggregation function may perform better.\n",
        "\n",
        "\n",
        "Use attention mechanisms: Attention mechanisms allow the GNN to focus on important nodes or edges in the graph, which can be particularly useful if the graph is large and complex. By attending to important nodes or edges, the GNN can better capture the underlying relationships between nodes."
      ],
      "metadata": {
        "id": "McTfIEvx8MOX"
      }
    }
  ]
}